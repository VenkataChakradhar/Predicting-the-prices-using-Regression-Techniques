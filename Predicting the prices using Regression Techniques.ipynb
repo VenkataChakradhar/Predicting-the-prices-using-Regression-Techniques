{
 "cells": [
  {
   "cell_type": "markdown",
   "metadata": {},
   "source": [
    "Use historical_data file\n",
    "\n",
    "Using symbol.date_txn and close_price, you have to predict- predicted_price\n",
    "\n",
    "Then we measure accuracy using following:\n",
    "\n",
    "For each symbol calculate: X = Median of (predicted_price-close_price)/close_price\n",
    "\n",
    "Final_accuracy = Average of X\n"
   ]
  },
  {
   "cell_type": "markdown",
   "metadata": {},
   "source": [
    "## Data Pre-Processing"
   ]
  },
  {
   "cell_type": "code",
   "execution_count": 1,
   "metadata": {},
   "outputs": [],
   "source": [
    "import pandas as pd\n",
    "import matplotlib.pyplot as plt"
   ]
  },
  {
   "cell_type": "markdown",
   "metadata": {},
   "source": [
    "importing data from file "
   ]
  },
  {
   "cell_type": "code",
   "execution_count": 2,
   "metadata": {},
   "outputs": [],
   "source": [
    "historical_data = pd.read_excel(r'D:\\TINO IQ Intern_Assignment\\data\\historical_data.xlsx')"
   ]
  },
  {
   "cell_type": "code",
   "execution_count": 3,
   "metadata": {},
   "outputs": [
    {
     "data": {
      "text/html": [
       "<div>\n",
       "<style scoped>\n",
       "    .dataframe tbody tr th:only-of-type {\n",
       "        vertical-align: middle;\n",
       "    }\n",
       "\n",
       "    .dataframe tbody tr th {\n",
       "        vertical-align: top;\n",
       "    }\n",
       "\n",
       "    .dataframe thead th {\n",
       "        text-align: right;\n",
       "    }\n",
       "</style>\n",
       "<table border=\"1\" class=\"dataframe\">\n",
       "  <thead>\n",
       "    <tr style=\"text-align: right;\">\n",
       "      <th></th>\n",
       "      <th>symbol</th>\n",
       "      <th>date_txn</th>\n",
       "      <th>close_price</th>\n",
       "      <th>predicted_price</th>\n",
       "    </tr>\n",
       "  </thead>\n",
       "  <tbody>\n",
       "    <tr>\n",
       "      <td>0</td>\n",
       "      <td>AAL</td>\n",
       "      <td>2014-12-02</td>\n",
       "      <td>47.55</td>\n",
       "      <td>47.93</td>\n",
       "    </tr>\n",
       "    <tr>\n",
       "      <td>1</td>\n",
       "      <td>AAL</td>\n",
       "      <td>2014-12-03</td>\n",
       "      <td>47.93</td>\n",
       "      <td>49.33</td>\n",
       "    </tr>\n",
       "    <tr>\n",
       "      <td>2</td>\n",
       "      <td>AAL</td>\n",
       "      <td>2014-12-04</td>\n",
       "      <td>49.33</td>\n",
       "      <td>50.68</td>\n",
       "    </tr>\n",
       "    <tr>\n",
       "      <td>3</td>\n",
       "      <td>AAL</td>\n",
       "      <td>2014-12-05</td>\n",
       "      <td>50.68</td>\n",
       "      <td>50.50</td>\n",
       "    </tr>\n",
       "    <tr>\n",
       "      <td>4</td>\n",
       "      <td>AAL</td>\n",
       "      <td>2014-12-08</td>\n",
       "      <td>50.50</td>\n",
       "      <td>48.00</td>\n",
       "    </tr>\n",
       "    <tr>\n",
       "      <td>...</td>\n",
       "      <td>...</td>\n",
       "      <td>...</td>\n",
       "      <td>...</td>\n",
       "      <td>...</td>\n",
       "    </tr>\n",
       "    <tr>\n",
       "      <td>1048570</td>\n",
       "      <td>KMF</td>\n",
       "      <td>2015-08-12</td>\n",
       "      <td>22.76</td>\n",
       "      <td>21.94</td>\n",
       "    </tr>\n",
       "    <tr>\n",
       "      <td>1048571</td>\n",
       "      <td>KMF</td>\n",
       "      <td>2015-08-13</td>\n",
       "      <td>21.94</td>\n",
       "      <td>22.51</td>\n",
       "    </tr>\n",
       "    <tr>\n",
       "      <td>1048572</td>\n",
       "      <td>KMF</td>\n",
       "      <td>2015-08-14</td>\n",
       "      <td>22.51</td>\n",
       "      <td>22.30</td>\n",
       "    </tr>\n",
       "    <tr>\n",
       "      <td>1048573</td>\n",
       "      <td>KMF</td>\n",
       "      <td>2015-08-17</td>\n",
       "      <td>22.30</td>\n",
       "      <td>22.10</td>\n",
       "    </tr>\n",
       "    <tr>\n",
       "      <td>1048574</td>\n",
       "      <td>KMF</td>\n",
       "      <td>2015-08-18</td>\n",
       "      <td>22.10</td>\n",
       "      <td>21.72</td>\n",
       "    </tr>\n",
       "  </tbody>\n",
       "</table>\n",
       "<p>1048575 rows × 4 columns</p>\n",
       "</div>"
      ],
      "text/plain": [
       "        symbol   date_txn  close_price  predicted_price\n",
       "0          AAL 2014-12-02        47.55            47.93\n",
       "1          AAL 2014-12-03        47.93            49.33\n",
       "2          AAL 2014-12-04        49.33            50.68\n",
       "3          AAL 2014-12-05        50.68            50.50\n",
       "4          AAL 2014-12-08        50.50            48.00\n",
       "...        ...        ...          ...              ...\n",
       "1048570    KMF 2015-08-12        22.76            21.94\n",
       "1048571    KMF 2015-08-13        21.94            22.51\n",
       "1048572    KMF 2015-08-14        22.51            22.30\n",
       "1048573    KMF 2015-08-17        22.30            22.10\n",
       "1048574    KMF 2015-08-18        22.10            21.72\n",
       "\n",
       "[1048575 rows x 4 columns]"
      ]
     },
     "execution_count": 3,
     "metadata": {},
     "output_type": "execute_result"
    }
   ],
   "source": [
    "historical_data"
   ]
  },
  {
   "cell_type": "code",
   "execution_count": 4,
   "metadata": {},
   "outputs": [
    {
     "data": {
      "text/plain": [
       "symbol               0\n",
       "date_txn             0\n",
       "close_price          0\n",
       "predicted_price    777\n",
       "dtype: int64"
      ]
     },
     "execution_count": 4,
     "metadata": {},
     "output_type": "execute_result"
    }
   ],
   "source": [
    "historical_data.isnull().sum()"
   ]
  },
  {
   "cell_type": "markdown",
   "metadata": {},
   "source": [
    "Droping the null values"
   ]
  },
  {
   "cell_type": "code",
   "execution_count": 5,
   "metadata": {},
   "outputs": [],
   "source": [
    "historical_data.dropna(subset = [\"predicted_price\"],how = 'any',inplace= True)"
   ]
  },
  {
   "cell_type": "code",
   "execution_count": 6,
   "metadata": {},
   "outputs": [
    {
     "data": {
      "text/html": [
       "<div>\n",
       "<style scoped>\n",
       "    .dataframe tbody tr th:only-of-type {\n",
       "        vertical-align: middle;\n",
       "    }\n",
       "\n",
       "    .dataframe tbody tr th {\n",
       "        vertical-align: top;\n",
       "    }\n",
       "\n",
       "    .dataframe thead th {\n",
       "        text-align: right;\n",
       "    }\n",
       "</style>\n",
       "<table border=\"1\" class=\"dataframe\">\n",
       "  <thead>\n",
       "    <tr style=\"text-align: right;\">\n",
       "      <th></th>\n",
       "      <th>symbol</th>\n",
       "      <th>date_txn</th>\n",
       "      <th>close_price</th>\n",
       "      <th>predicted_price</th>\n",
       "    </tr>\n",
       "  </thead>\n",
       "  <tbody>\n",
       "    <tr>\n",
       "      <td>0</td>\n",
       "      <td>AAL</td>\n",
       "      <td>2014-12-02</td>\n",
       "      <td>47.55</td>\n",
       "      <td>47.93</td>\n",
       "    </tr>\n",
       "    <tr>\n",
       "      <td>1</td>\n",
       "      <td>AAL</td>\n",
       "      <td>2014-12-03</td>\n",
       "      <td>47.93</td>\n",
       "      <td>49.33</td>\n",
       "    </tr>\n",
       "    <tr>\n",
       "      <td>2</td>\n",
       "      <td>AAL</td>\n",
       "      <td>2014-12-04</td>\n",
       "      <td>49.33</td>\n",
       "      <td>50.68</td>\n",
       "    </tr>\n",
       "    <tr>\n",
       "      <td>3</td>\n",
       "      <td>AAL</td>\n",
       "      <td>2014-12-05</td>\n",
       "      <td>50.68</td>\n",
       "      <td>50.50</td>\n",
       "    </tr>\n",
       "    <tr>\n",
       "      <td>4</td>\n",
       "      <td>AAL</td>\n",
       "      <td>2014-12-08</td>\n",
       "      <td>50.50</td>\n",
       "      <td>48.00</td>\n",
       "    </tr>\n",
       "    <tr>\n",
       "      <td>...</td>\n",
       "      <td>...</td>\n",
       "      <td>...</td>\n",
       "      <td>...</td>\n",
       "      <td>...</td>\n",
       "    </tr>\n",
       "    <tr>\n",
       "      <td>1048570</td>\n",
       "      <td>KMF</td>\n",
       "      <td>2015-08-12</td>\n",
       "      <td>22.76</td>\n",
       "      <td>21.94</td>\n",
       "    </tr>\n",
       "    <tr>\n",
       "      <td>1048571</td>\n",
       "      <td>KMF</td>\n",
       "      <td>2015-08-13</td>\n",
       "      <td>21.94</td>\n",
       "      <td>22.51</td>\n",
       "    </tr>\n",
       "    <tr>\n",
       "      <td>1048572</td>\n",
       "      <td>KMF</td>\n",
       "      <td>2015-08-14</td>\n",
       "      <td>22.51</td>\n",
       "      <td>22.30</td>\n",
       "    </tr>\n",
       "    <tr>\n",
       "      <td>1048573</td>\n",
       "      <td>KMF</td>\n",
       "      <td>2015-08-17</td>\n",
       "      <td>22.30</td>\n",
       "      <td>22.10</td>\n",
       "    </tr>\n",
       "    <tr>\n",
       "      <td>1048574</td>\n",
       "      <td>KMF</td>\n",
       "      <td>2015-08-18</td>\n",
       "      <td>22.10</td>\n",
       "      <td>21.72</td>\n",
       "    </tr>\n",
       "  </tbody>\n",
       "</table>\n",
       "<p>1047798 rows × 4 columns</p>\n",
       "</div>"
      ],
      "text/plain": [
       "        symbol   date_txn  close_price  predicted_price\n",
       "0          AAL 2014-12-02        47.55            47.93\n",
       "1          AAL 2014-12-03        47.93            49.33\n",
       "2          AAL 2014-12-04        49.33            50.68\n",
       "3          AAL 2014-12-05        50.68            50.50\n",
       "4          AAL 2014-12-08        50.50            48.00\n",
       "...        ...        ...          ...              ...\n",
       "1048570    KMF 2015-08-12        22.76            21.94\n",
       "1048571    KMF 2015-08-13        21.94            22.51\n",
       "1048572    KMF 2015-08-14        22.51            22.30\n",
       "1048573    KMF 2015-08-17        22.30            22.10\n",
       "1048574    KMF 2015-08-18        22.10            21.72\n",
       "\n",
       "[1047798 rows x 4 columns]"
      ]
     },
     "execution_count": 6,
     "metadata": {},
     "output_type": "execute_result"
    }
   ],
   "source": [
    "historical_data"
   ]
  },
  {
   "cell_type": "markdown",
   "metadata": {},
   "source": [
    "Visualization of the historical_data"
   ]
  },
  {
   "cell_type": "code",
   "execution_count": 7,
   "metadata": {},
   "outputs": [
    {
     "data": {
      "text/plain": [
       "<function matplotlib.pyplot.show(*args, **kw)>"
      ]
     },
     "execution_count": 7,
     "metadata": {},
     "output_type": "execute_result"
    },
    {
     "data": {
      "image/png": "[encoded data removed]",
      "text/plain": [
       "<Figure size 432x288 with 1 Axes>"
      ]
     },
     "metadata": {
      "needs_background": "light"
     },
     "output_type": "display_data"
    }
   ],
   "source": [
    "historical_data.plot(kind='scatter',x = 'close_price', y = 'predicted_price')\n",
    "plt.show"
   ]
  },
  {
   "cell_type": "code",
   "execution_count": 8,
   "metadata": {},
   "outputs": [
    {
     "data": {
      "text/html": [
       "<div>\n",
       "<style scoped>\n",
       "    .dataframe tbody tr th:only-of-type {\n",
       "        vertical-align: middle;\n",
       "    }\n",
       "\n",
       "    .dataframe tbody tr th {\n",
       "        vertical-align: top;\n",
       "    }\n",
       "\n",
       "    .dataframe thead th {\n",
       "        text-align: right;\n",
       "    }\n",
       "</style>\n",
       "<table border=\"1\" class=\"dataframe\">\n",
       "  <thead>\n",
       "    <tr style=\"text-align: right;\">\n",
       "      <th></th>\n",
       "      <th>close_price</th>\n",
       "      <th>predicted_price</th>\n",
       "    </tr>\n",
       "  </thead>\n",
       "  <tbody>\n",
       "    <tr>\n",
       "      <td>close_price</td>\n",
       "      <td>1.000000</td>\n",
       "      <td>0.999279</td>\n",
       "    </tr>\n",
       "    <tr>\n",
       "      <td>predicted_price</td>\n",
       "      <td>0.999279</td>\n",
       "      <td>1.000000</td>\n",
       "    </tr>\n",
       "  </tbody>\n",
       "</table>\n",
       "</div>"
      ],
      "text/plain": [
       "                 close_price  predicted_price\n",
       "close_price         1.000000         0.999279\n",
       "predicted_price     0.999279         1.000000"
      ]
     },
     "execution_count": 8,
     "metadata": {},
     "output_type": "execute_result"
    }
   ],
   "source": [
    "#Correlation Coefficients\n",
    "historical_data.corr()"
   ]
  },
  {
   "cell_type": "markdown",
   "metadata": {},
   "source": [
    "## Importing the Linear Regression Model"
   ]
  },
  {
   "cell_type": "code",
   "execution_count": 9,
   "metadata": {},
   "outputs": [],
   "source": [
    "from sklearn.model_selection import train_test_split\n",
    "from sklearn.linear_model import LinearRegression\n",
    "from sklearn import datasets, linear_model,metrics"
   ]
  },
  {
   "cell_type": "code",
   "execution_count": 10,
   "metadata": {},
   "outputs": [],
   "source": [
    "x = historical_data.drop(['predicted_price','symbol'],axis = 1,inplace = False)\n",
    "y = historical_data['predicted_price']\n"
   ]
  },
  {
   "cell_type": "code",
   "execution_count": 11,
   "metadata": {},
   "outputs": [],
   "source": [
    "import datetime as dt\n",
    "x['date_txn'] = pd.to_datetime(x['date_txn'])\n",
    "x['date_txn']=x['date_txn'].map(dt.datetime.toordinal)\n"
   ]
  },
  {
   "cell_type": "markdown",
   "metadata": {},
   "source": [
    "Splitting the data "
   ]
  },
  {
   "cell_type": "code",
   "execution_count": 12,
   "metadata": {},
   "outputs": [],
   "source": [
    "x_train, x_test, y_train, y_test = train_test_split(x, y, test_size=0.2,random_state = 40)"
   ]
  },
  {
   "cell_type": "code",
   "execution_count": 13,
   "metadata": {},
   "outputs": [],
   "source": [
    "lm = linear_model.LinearRegression()"
   ]
  },
  {
   "cell_type": "markdown",
   "metadata": {},
   "source": [
    "Fitting the data into the model"
   ]
  },
  {
   "cell_type": "code",
   "execution_count": 14,
   "metadata": {},
   "outputs": [
    {
     "data": {
      "text/plain": [
       "LinearRegression(copy_X=True, fit_intercept=True, n_jobs=None, normalize=False)"
      ]
     },
     "execution_count": 14,
     "metadata": {},
     "output_type": "execute_result"
    }
   ],
   "source": [
    "lm=lm.fit(x_train, y_train)\n",
    "lm"
   ]
  },
  {
   "cell_type": "code",
   "execution_count": 15,
   "metadata": {},
   "outputs": [],
   "source": [
    "y_pred=lm.predict(x_test)"
   ]
  },
  {
   "cell_type": "code",
   "execution_count": 16,
   "metadata": {},
   "outputs": [],
   "source": [
    "from sklearn.metrics import mean_squared_error, r2_score"
   ]
  },
  {
   "cell_type": "code",
   "execution_count": 17,
   "metadata": {},
   "outputs": [],
   "source": [
    "mean_squared_error = mean_squared_error(y_test, y_pred)\n",
    "r2_score = r2_score(y_test, y_pred)"
   ]
  },
  {
   "cell_type": "code",
   "execution_count": 18,
   "metadata": {},
   "outputs": [
    {
     "data": {
      "text/plain": [
       "12.358905757034128"
      ]
     },
     "execution_count": 18,
     "metadata": {},
     "output_type": "execute_result"
    }
   ],
   "source": [
    "mean_squared_error"
   ]
  },
  {
   "cell_type": "code",
   "execution_count": 19,
   "metadata": {},
   "outputs": [
    {
     "data": {
      "text/plain": [
       "0.9986209992644028"
      ]
     },
     "execution_count": 19,
     "metadata": {},
     "output_type": "execute_result"
    }
   ],
   "source": [
    "r2_score"
   ]
  },
  {
   "cell_type": "code",
   "execution_count": 20,
   "metadata": {},
   "outputs": [
    {
     "data": {
      "text/plain": [
       "6.846222799616456"
      ]
     },
     "execution_count": 20,
     "metadata": {},
     "output_type": "execute_result"
    }
   ],
   "source": [
    "lm.intercept_"
   ]
  },
  {
   "cell_type": "code",
   "execution_count": 21,
   "metadata": {},
   "outputs": [
    {
     "data": {
      "text/plain": [
       "0.9985419125940959"
      ]
     },
     "execution_count": 21,
     "metadata": {},
     "output_type": "execute_result"
    }
   ],
   "source": [
    "lm.score(x_train, y_train)"
   ]
  },
  {
   "cell_type": "markdown",
   "metadata": {},
   "source": [
    "Creating the table for x_test,y_test data and our prediction values"
   ]
  },
  {
   "cell_type": "code",
   "execution_count": 25,
   "metadata": {},
   "outputs": [],
   "source": [
    "X = x_test\n",
    "Y = y_test\n",
    "predictions = pd.concat([X,Y],axis=1)\n"
   ]
  },
  {
   "cell_type": "code",
   "execution_count": 28,
   "metadata": {},
   "outputs": [],
   "source": [
    "predictions.insert(3, column = \"predicted_values\" ,value = y_pred)"
   ]
  },
  {
   "cell_type": "code",
   "execution_count": 29,
   "metadata": {},
   "outputs": [
    {
     "data": {
      "text/html": [
       "<div>\n",
       "<style scoped>\n",
       "    .dataframe tbody tr th:only-of-type {\n",
       "        vertical-align: middle;\n",
       "    }\n",
       "\n",
       "    .dataframe tbody tr th {\n",
       "        vertical-align: top;\n",
       "    }\n",
       "\n",
       "    .dataframe thead th {\n",
       "        text-align: right;\n",
       "    }\n",
       "</style>\n",
       "<table border=\"1\" class=\"dataframe\">\n",
       "  <thead>\n",
       "    <tr style=\"text-align: right;\">\n",
       "      <th></th>\n",
       "      <th>date_txn</th>\n",
       "      <th>close_price</th>\n",
       "      <th>predicted_price</th>\n",
       "      <th>predicted_values</th>\n",
       "    </tr>\n",
       "  </thead>\n",
       "  <tbody>\n",
       "    <tr>\n",
       "      <td>283424</td>\n",
       "      <td>737263</td>\n",
       "      <td>34.00</td>\n",
       "      <td>34.86</td>\n",
       "      <td>34.003705</td>\n",
       "    </tr>\n",
       "    <tr>\n",
       "      <td>936253</td>\n",
       "      <td>736142</td>\n",
       "      <td>38.82</td>\n",
       "      <td>39.13</td>\n",
       "      <td>38.834937</td>\n",
       "    </tr>\n",
       "    <tr>\n",
       "      <td>590033</td>\n",
       "      <td>737504</td>\n",
       "      <td>16.23</td>\n",
       "      <td>16.80</td>\n",
       "      <td>16.228444</td>\n",
       "    </tr>\n",
       "    <tr>\n",
       "      <td>39951</td>\n",
       "      <td>737040</td>\n",
       "      <td>42.11</td>\n",
       "      <td>41.20</td>\n",
       "      <td>42.117155</td>\n",
       "    </tr>\n",
       "    <tr>\n",
       "      <td>662190</td>\n",
       "      <td>736121</td>\n",
       "      <td>52.18</td>\n",
       "      <td>51.58</td>\n",
       "      <td>52.197405</td>\n",
       "    </tr>\n",
       "    <tr>\n",
       "      <td>...</td>\n",
       "      <td>...</td>\n",
       "      <td>...</td>\n",
       "      <td>...</td>\n",
       "      <td>...</td>\n",
       "    </tr>\n",
       "    <tr>\n",
       "      <td>468610</td>\n",
       "      <td>737073</td>\n",
       "      <td>8.36</td>\n",
       "      <td>8.37</td>\n",
       "      <td>8.361109</td>\n",
       "    </tr>\n",
       "    <tr>\n",
       "      <td>23268</td>\n",
       "      <td>736366</td>\n",
       "      <td>24.80</td>\n",
       "      <td>24.98</td>\n",
       "      <td>24.810472</td>\n",
       "    </tr>\n",
       "    <tr>\n",
       "      <td>942485</td>\n",
       "      <td>737332</td>\n",
       "      <td>52.47</td>\n",
       "      <td>52.33</td>\n",
       "      <td>52.476205</td>\n",
       "    </tr>\n",
       "    <tr>\n",
       "      <td>547064</td>\n",
       "      <td>737173</td>\n",
       "      <td>11.56</td>\n",
       "      <td>11.56</td>\n",
       "      <td>11.560724</td>\n",
       "    </tr>\n",
       "    <tr>\n",
       "      <td>700036</td>\n",
       "      <td>735726</td>\n",
       "      <td>172.82</td>\n",
       "      <td>173.67</td>\n",
       "      <td>172.861593</td>\n",
       "    </tr>\n",
       "  </tbody>\n",
       "</table>\n",
       "<p>209560 rows × 4 columns</p>\n",
       "</div>"
      ],
      "text/plain": [
       "        date_txn  close_price  predicted_price  predicted_values\n",
       "283424    737263        34.00            34.86         34.003705\n",
       "936253    736142        38.82            39.13         38.834937\n",
       "590033    737504        16.23            16.80         16.228444\n",
       "39951     737040        42.11            41.20         42.117155\n",
       "662190    736121        52.18            51.58         52.197405\n",
       "...          ...          ...              ...               ...\n",
       "468610    737073         8.36             8.37          8.361109\n",
       "23268     736366        24.80            24.98         24.810472\n",
       "942485    737332        52.47            52.33         52.476205\n",
       "547064    737173        11.56            11.56         11.560724\n",
       "700036    735726       172.82           173.67        172.861593\n",
       "\n",
       "[209560 rows x 4 columns]"
      ]
     },
     "execution_count": 29,
     "metadata": {},
     "output_type": "execute_result"
    }
   ],
   "source": [
    "predictions"
   ]
  },
  {
   "cell_type": "code",
   "execution_count": 30,
   "metadata": {},
   "outputs": [],
   "source": [
    "close_price = pd.DataFrame(predictions['close_price'])"
   ]
  },
  {
   "cell_type": "markdown",
   "metadata": {},
   "source": [
    "### Visualizing the Result"
   ]
  },
  {
   "cell_type": "code",
   "execution_count": 31,
   "metadata": {},
   "outputs": [
    {
     "data": {
      "image/png": "[encoded data removed]",
      "text/plain": [
       "<Figure size 432x288 with 1 Axes>"
      ]
     },
     "metadata": {
      "needs_background": "light"
     },
     "output_type": "display_data"
    }
   ],
   "source": [
    "predicted_values.plot(kind = 'scatter', x='close_price',y = 'predicted_price')\n",
    "# plotting the regression line\n",
    "plt.plot(close_price,predictions['predicted_values'],color  = 'red',linewidth = 2)\n",
    "plt.show()"
   ]
  },
  {
   "cell_type": "markdown",
   "metadata": {},
   "source": [
    "Finding the fianl accuracy"
   ]
  },
  {
   "cell_type": "code",
   "execution_count": 33,
   "metadata": {},
   "outputs": [],
   "source": [
    "predictions['median'] = (predictions['predicted_values']-predictions['close_price'])"
   ]
  },
  {
   "cell_type": "code",
   "execution_count": 34,
   "metadata": {},
   "outputs": [],
   "source": [
    "pred_values = predictions['median']\n"
   ]
  },
  {
   "cell_type": "code",
   "execution_count": 35,
   "metadata": {},
   "outputs": [],
   "source": [
    "median = pred_values.median() \n"
   ]
  },
  {
   "cell_type": "code",
   "execution_count": 36,
   "metadata": {},
   "outputs": [],
   "source": [
    "predictions['median'] = median/predictions['close_price']\n"
   ]
  },
  {
   "cell_type": "code",
   "execution_count": 37,
   "metadata": {},
   "outputs": [
    {
     "data": {
      "text/plain": [
       "0.0008020372024097328"
      ]
     },
     "execution_count": 37,
     "metadata": {},
     "output_type": "execute_result"
    }
   ],
   "source": [
    "predictions['median'].mean()\n"
   ]
  }
 ],
 "metadata": {
  "kernelspec": {
   "display_name": "Python 3",
   "language": "python",
   "name": "python3"
  },
  "language_info": {
   "codemirror_mode": {
    "name": "ipython",
    "version": 3
   },
   "file_extension": ".py",
   "mimetype": "text/x-python",
   "name": "python",
   "nbconvert_exporter": "python",
   "pygments_lexer": "ipython3",
   "version": "3.7.4"
  }
 },
 "nbformat": 4,
 "nbformat_minor": 2
}
